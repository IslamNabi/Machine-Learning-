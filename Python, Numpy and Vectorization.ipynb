{
 "cells": [
  {
   "cell_type": "code",
   "execution_count": 1,
   "id": "84d99686-926c-45f8-be43-7a0fe9575629",
   "metadata": {},
   "outputs": [],
   "source": [
    "import numpy as np\n",
    "import time\n",
    "\n",
    "# Generate two large arrays\n",
    "size = 1_000_000\n",
    "A = np.random.rand(size)\n",
    "B = np.random.rand(size)"
   ]
  },
  {
   "cell_type": "code",
   "execution_count": 3,
   "id": "7fbf62ea-62ac-4926-92cf-1c1b43854d1b",
   "metadata": {},
   "outputs": [
    {
     "name": "stdout",
     "output_type": "stream",
     "text": [
      "Loop-based time: 0.394577 seconds\n"
     ]
    }
   ],
   "source": [
    "# Loop-based implementation\n",
    "start_time = time.time()\n",
    "\n",
    "result_loop = np.zeros(size)  # Initialize an empty array to store results\n",
    "for i in range(size):\n",
    "    result_loop[i] = A[i] * B[i]\n",
    "\n",
    "loop_time = time.time() - start_time\n",
    "print(f\"Loop-based time: {loop_time:.6f} seconds\")"
   ]
  },
  {
   "cell_type": "code",
   "execution_count": 5,
   "id": "5b7ee878-9745-455b-8f40-45655fed4c87",
   "metadata": {},
   "outputs": [
    {
     "name": "stdout",
     "output_type": "stream",
     "text": [
      "Vectorized time: 0.000000 seconds\n"
     ]
    }
   ],
   "source": [
    "# Vectorized implementation\n",
    "start_time = time.time()\n",
    "\n",
    "result_vectorized = A * B  # Element-wise multiplication (vectorized)\n",
    "\n",
    "vectorized_time = time.time() - start_time\n",
    "print(f\"Vectorized time: {vectorized_time:.6f} seconds\")"
   ]
  },
  {
   "cell_type": "code",
   "execution_count": null,
   "id": "7a1cbefc-6e4e-44c4-93f8-e379c1582b05",
   "metadata": {},
   "outputs": [],
   "source": []
  }
 ],
 "metadata": {
  "kernelspec": {
   "display_name": "Python 3 (ipykernel)",
   "language": "python",
   "name": "python3"
  },
  "language_info": {
   "codemirror_mode": {
    "name": "ipython",
    "version": 3
   },
   "file_extension": ".py",
   "mimetype": "text/x-python",
   "name": "python",
   "nbconvert_exporter": "python",
   "pygments_lexer": "ipython3",
   "version": "3.12.4"
  }
 },
 "nbformat": 4,
 "nbformat_minor": 5
}
