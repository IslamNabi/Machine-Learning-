{
 "cells": [
  {
   "cell_type": "markdown",
   "id": "df7e93d3-ca4c-4c50-842f-4c826a9aa663",
   "metadata": {},
   "source": [
    "# Step 01: Loading Dataset and Providing Column Names "
   ]
  },
  {
   "cell_type": "code",
   "execution_count": 172,
   "id": "a8811941-6763-46a6-9623-e49a8c7857fa",
   "metadata": {},
   "outputs": [
    {
     "name": "stdout",
     "output_type": "stream",
     "text": [
      "   Number of times pregnant  Plasma glucose concentration  \\\n",
      "0                         6                           148   \n",
      "1                         1                            85   \n",
      "2                         8                           183   \n",
      "3                         1                            89   \n",
      "4                         0                           137   \n",
      "\n",
      "   Diastolic blood pressure  Triceps skinfold thickness  2-Hour serum insulin  \\\n",
      "0                        72                          35                     0   \n",
      "1                        66                          29                     0   \n",
      "2                        64                           0                     0   \n",
      "3                        66                          23                    94   \n",
      "4                        40                          35                   168   \n",
      "\n",
      "   Body mass index  Diabetes pedigree function  Age  Class variable  \n",
      "0             33.6                       0.627   50               1  \n",
      "1             26.6                       0.351   31               0  \n",
      "2             23.3                       0.672   32               1  \n",
      "3             28.1                       0.167   21               0  \n",
      "4             43.1                       2.288   33               1  \n"
     ]
    }
   ],
   "source": [
    "import pandas as pd\n",
    "\n",
    "# Define the column names\n",
    "column_names = [\n",
    "    'Number of times pregnant',\n",
    "    'Plasma glucose concentration',\n",
    "    'Diastolic blood pressure',\n",
    "    'Triceps skinfold thickness',\n",
    "    '2-Hour serum insulin',\n",
    "    'Body mass index',\n",
    "    'Diabetes pedigree function',\n",
    "    'Age',\n",
    "    'Class variable'\n",
    "]\n",
    "\n",
    "# Load the dataset\n",
    "df = pd.read_csv('indiansDiabetes.csv', header=None, names=column_names)\n",
    "print(df.head())\n",
    "\n"
   ]
  },
  {
   "cell_type": "code",
   "execution_count": 173,
   "id": "44d78354-4698-409e-ae47-c73414d3adb7",
   "metadata": {},
   "outputs": [
    {
     "data": {
      "text/plain": [
       "(768, 9)"
      ]
     },
     "execution_count": 173,
     "metadata": {},
     "output_type": "execute_result"
    }
   ],
   "source": [
    "df.shape"
   ]
  },
  {
   "cell_type": "markdown",
   "id": "29ad2dc1-7dd3-4979-acc8-2e267a3011e7",
   "metadata": {},
   "source": [
    "# Step 02: Checking Zeros in Specific Columns"
   ]
  },
  {
   "cell_type": "code",
   "execution_count": 175,
   "id": "2f396ace-3e43-4247-911c-2e700857f373",
   "metadata": {},
   "outputs": [
    {
     "name": "stdout",
     "output_type": "stream",
     "text": [
      "Count of NaN values per column before imputation:\n",
      "Plasma glucose concentration      5\n",
      "Diastolic blood pressure         35\n",
      "Triceps skinfold thickness      227\n",
      "2-Hour serum insulin            374\n",
      "Body mass index                  11\n",
      "dtype: int64\n",
      "\n",
      "Mean values for imputation:\n",
      "Plasma glucose concentration    121.686763\n",
      "Diastolic blood pressure         72.405184\n",
      "Triceps skinfold thickness       29.153420\n",
      "2-Hour serum insulin            155.548223\n",
      "Body mass index                  32.457464\n",
      "dtype: float64\n",
      "\n",
      "Count of NaN values per column after imputation:\n",
      "Plasma glucose concentration    0\n",
      "Diastolic blood pressure        0\n",
      "Triceps skinfold thickness      0\n",
      "2-Hour serum insulin            0\n",
      "Body mass index                 0\n",
      "dtype: int64\n"
     ]
    }
   ],
   "source": [
    "import numpy as np\n",
    "\n",
    "\n",
    "columns_to_replace = ['Plasma glucose concentration', 'Diastolic blood pressure', \n",
    "                      'Triceps skinfold thickness', '2-Hour serum insulin', \n",
    "                      'Body mass index']\n",
    "\n",
    "df[columns_to_replace] = df[columns_to_replace].replace(0, np.nan)\n",
    "\n",
    "nan_check_before = df[columns_to_replace].isna().sum()\n",
    "print(\"Count of NaN values per column before imputation:\")\n",
    "print(nan_check_before)\n",
    "\n",
    "mean_values = df[columns_to_replace].mean()\n",
    "\n",
    "# Print mean values for debugging\n",
    "print(\"\\nMean values for imputation:\")\n",
    "print(mean_values)\n",
    "\n",
    "df[columns_to_replace] = df[columns_to_replace].fillna(mean_values)\n",
    "\n",
    "nan_check_after = df[columns_to_replace].isna().sum()\n",
    "print(\"\\nCount of NaN values per column after imputation:\")\n",
    "print(nan_check_after)"
   ]
  },
  {
   "cell_type": "markdown",
   "id": "79f07c68-28cc-4969-b74a-edb28d4c72b0",
   "metadata": {},
   "source": [
    "# Step 03: Normalizing the features in range of 0-1"
   ]
  },
  {
   "cell_type": "code",
   "execution_count": 177,
   "id": "e33e9068-c56e-4d6b-90ee-03b2a3605e61",
   "metadata": {},
   "outputs": [
    {
     "name": "stdout",
     "output_type": "stream",
     "text": [
      "   Number of times pregnant  Plasma glucose concentration  \\\n",
      "0                  0.352941                      0.670968   \n",
      "1                  0.058824                      0.264516   \n",
      "2                  0.470588                      0.896774   \n",
      "3                  0.058824                      0.290323   \n",
      "4                  0.000000                      0.600000   \n",
      "\n",
      "   Diastolic blood pressure  Triceps skinfold thickness  2-Hour serum insulin  \\\n",
      "0                  0.489796                    0.304348              0.170130   \n",
      "1                  0.428571                    0.239130              0.170130   \n",
      "2                  0.408163                    0.240798              0.170130   \n",
      "3                  0.428571                    0.173913              0.096154   \n",
      "4                  0.163265                    0.304348              0.185096   \n",
      "\n",
      "   Body mass index  Diabetes pedigree function       Age  Class variable  \n",
      "0         0.314928                    0.234415  0.483333               1  \n",
      "1         0.171779                    0.116567  0.166667               0  \n",
      "2         0.104294                    0.253629  0.183333               1  \n",
      "3         0.202454                    0.038002  0.000000               0  \n",
      "4         0.509202                    0.943638  0.200000               1  \n"
     ]
    }
   ],
   "source": [
    "from sklearn.preprocessing import MinMaxScaler\n",
    "\n",
    "scaler = MinMaxScaler()\n",
    "\n",
    "features = df.drop(columns=['Class variable'])\n",
    "\n",
    "scaled_features = scaler.fit_transform(features)\n",
    "\n",
    "scaled_df = pd.DataFrame(scaled_features, columns=features.columns)\n",
    "\n",
    "scaled_df['Class variable'] = df['Class variable'].values\n",
    "\n",
    "print(scaled_df.head())"
   ]
  },
  {
   "cell_type": "markdown",
   "id": "b6cb0428-0280-449a-9956-5e80a75b46fb",
   "metadata": {},
   "source": [
    "# Step 04: Splitting the Dataset in train and test (80-20)"
   ]
  },
  {
   "cell_type": "code",
   "execution_count": 179,
   "id": "9c907ac4-797b-4d97-8123-52dcb27f429e",
   "metadata": {},
   "outputs": [],
   "source": [
    "from sklearn.model_selection import train_test_split\n",
    "\n",
    "X = scaled_df.drop(columns=['Class variable'])\n",
    "y = scaled_df['Class variable']\n",
    "\n",
    "X_train, X_test, y_train, y_test = train_test_split(X, y, test_size=0.2, stratify=y, random_state=42)\n"
   ]
  },
  {
   "cell_type": "markdown",
   "id": "a0588a6f-3789-403c-a37c-ad03bbca6031",
   "metadata": {},
   "source": [
    "# Step 05: Training, Predicting and Calculating varoius metrics "
   ]
  },
  {
   "cell_type": "code",
   "execution_count": 181,
   "id": "c2b615c0-2bc5-4f4c-af7c-3dc584b4860e",
   "metadata": {
    "scrolled": true
   },
   "outputs": [
    {
     "name": "stdout",
     "output_type": "stream",
     "text": [
      "Perceptron Classification Report:\n",
      "\n",
      "              precision    recall  f1-score   support\n",
      "\n",
      "           0       0.74      0.92      0.82       100\n",
      "           1       0.72      0.39      0.51        54\n",
      "\n",
      "    accuracy                           0.73       154\n",
      "   macro avg       0.73      0.65      0.66       154\n",
      "weighted avg       0.73      0.73      0.71       154\n",
      "\n",
      "------------------------------------------------------------\n",
      "LogisticRegression Classification Report:\n",
      "\n",
      "              precision    recall  f1-score   support\n",
      "\n",
      "           0       0.75      0.83      0.79       100\n",
      "           1       0.60      0.48      0.54        54\n",
      "\n",
      "    accuracy                           0.71       154\n",
      "   macro avg       0.68      0.66      0.66       154\n",
      "weighted avg       0.70      0.71      0.70       154\n",
      "\n",
      "------------------------------------------------------------\n",
      "DecisionTree Classification Report:\n",
      "\n",
      "              precision    recall  f1-score   support\n",
      "\n",
      "           0       0.71      0.79      0.75       100\n",
      "           1       0.50      0.39      0.44        54\n",
      "\n",
      "    accuracy                           0.65       154\n",
      "   macro avg       0.60      0.59      0.59       154\n",
      "weighted avg       0.63      0.65      0.64       154\n",
      "\n",
      "------------------------------------------------------------\n",
      "RandomForest Classification Report:\n",
      "\n",
      "              precision    recall  f1-score   support\n",
      "\n",
      "           0       0.80      0.83      0.81       100\n",
      "           1       0.66      0.61      0.63        54\n",
      "\n",
      "    accuracy                           0.75       154\n",
      "   macro avg       0.73      0.72      0.72       154\n",
      "weighted avg       0.75      0.75      0.75       154\n",
      "\n",
      "------------------------------------------------------------\n"
     ]
    }
   ],
   "source": [
    "from sklearn.linear_model import Perceptron, LogisticRegression\n",
    "from sklearn.tree import DecisionTreeClassifier\n",
    "from sklearn.ensemble import RandomForestClassifier\n",
    "from sklearn.metrics import accuracy_score, classification_report, precision_score, recall_score, f1_score\n",
    "\n",
    "# Initialize the models\n",
    "models = {\n",
    "    'Perceptron': Perceptron(),\n",
    "    'LogisticRegression': LogisticRegression(),\n",
    "    'DecisionTree': DecisionTreeClassifier(),\n",
    "    'RandomForest': RandomForestClassifier(),\n",
    "}\n",
    "\n",
    "# Dictionary to store results (accuracy, precision, recall, F1-score)\n",
    "results = {}\n",
    "\n",
    "# Train the models, get metrics, and print classification report\n",
    "for name, model in models.items():\n",
    "    model.fit(X_train, y_train)\n",
    "    y_pred = model.predict(X_test)\n",
    "    \n",
    "    # Calculate various metrics\n",
    "    accuracy = accuracy_score(y_test, y_pred)\n",
    "    precision = precision_score(y_test, y_pred, average='weighted')\n",
    "    recall = recall_score(y_test, y_pred, average='weighted')\n",
    "    f1 = f1_score(y_test, y_pred, average='weighted')\n",
    "    \n",
    "    # Store the results in the dictionary\n",
    "    results[name] = {\n",
    "        'Accuracy': accuracy,\n",
    "        'Precision': precision,\n",
    "        'Recall': recall,\n",
    "        'F1-Score': f1\n",
    "    }\n",
    "    \n",
    "    # Print the classification report for each model\n",
    "    print(f'{name} Classification Report:\\n')\n",
    "    print(classification_report(y_test, y_pred))\n",
    "    print('---' * 20)  # Separator between models\n"
   ]
  },
  {
   "cell_type": "code",
   "execution_count": null,
   "id": "20f01548-4aed-48a3-ae37-9784283cb7f2",
   "metadata": {},
   "outputs": [],
   "source": []
  }
 ],
 "metadata": {
  "kernelspec": {
   "display_name": "Python 3 (ipykernel)",
   "language": "python",
   "name": "python3"
  },
  "language_info": {
   "codemirror_mode": {
    "name": "ipython",
    "version": 3
   },
   "file_extension": ".py",
   "mimetype": "text/x-python",
   "name": "python",
   "nbconvert_exporter": "python",
   "pygments_lexer": "ipython3",
   "version": "3.12.4"
  }
 },
 "nbformat": 4,
 "nbformat_minor": 5
}
