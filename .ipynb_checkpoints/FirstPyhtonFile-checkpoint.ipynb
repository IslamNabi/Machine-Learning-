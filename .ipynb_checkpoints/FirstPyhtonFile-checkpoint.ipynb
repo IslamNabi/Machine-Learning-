{
 "cells": [
  {
   "cell_type": "code",
   "execution_count": 1,
   "id": "378a5f61-9b42-4e07-b65b-7226f5a87bc0",
   "metadata": {},
   "outputs": [
    {
     "name": "stdout",
     "output_type": "stream",
     "text": [
      "HELLO!\n"
     ]
    }
   ],
   "source": [
    "print(\"HELLO!\")\n"
   ]
  },
  {
   "cell_type": "code",
   "execution_count": 3,
   "id": "169e51d4-6c10-46ea-8831-f8b83fd0965f",
   "metadata": {},
   "outputs": [
    {
     "name": "stdout",
     "output_type": "stream",
     "text": [
      "5\n"
     ]
    }
   ],
   "source": [
    "num1 = 2\n",
    "num2 = 3\n",
    "sum  = num1 + num2 \n",
    "print(sum)\n"
   ]
  },
  {
   "cell_type": "code",
   "execution_count": 5,
   "id": "b294c94b-f9b7-4d05-9855-083a8108b6a7",
   "metadata": {},
   "outputs": [
    {
     "ename": "NameError",
     "evalue": "name 'typeof' is not defined",
     "output_type": "error",
     "traceback": [
      "\u001b[1;31m---------------------------------------------------------------------------\u001b[0m",
      "\u001b[1;31mNameError\u001b[0m                                 Traceback (most recent call last)",
      "Cell \u001b[1;32mIn[5], line 2\u001b[0m\n\u001b[0;32m      1\u001b[0m num1 \u001b[38;5;241m=\u001b[39m \u001b[38;5;241m5\u001b[39m\n\u001b[1;32m----> 2\u001b[0m typeof(num1)\n",
      "\u001b[1;31mNameError\u001b[0m: name 'typeof' is not defined"
     ]
    }
   ],
   "source": [
    "num1 = 5\n",
    "typeof(num1)\n"
   ]
  },
  {
   "cell_type": "code",
   "execution_count": 7,
   "id": "3263302d-ac5c-493f-acec-ff4bb409f32b",
   "metadata": {},
   "outputs": [
    {
     "data": {
      "text/plain": [
       "int"
      ]
     },
     "execution_count": 7,
     "metadata": {},
     "output_type": "execute_result"
    }
   ],
   "source": [
    "type(num1)"
   ]
  },
  {
   "cell_type": "code",
   "execution_count": 9,
   "id": "31edde02-5225-4dc6-a30a-b940bd98d172",
   "metadata": {},
   "outputs": [
    {
     "data": {
      "text/plain": [
       "float"
      ]
     },
     "execution_count": 9,
     "metadata": {},
     "output_type": "execute_result"
    }
   ],
   "source": [
    "num1 = 5.3\n",
    "type(num1)"
   ]
  },
  {
   "cell_type": "code",
   "execution_count": 17,
   "id": "cfac04d0-e01e-437f-8ecf-61af5135cf0c",
   "metadata": {},
   "outputs": [],
   "source": [
    "# operators in python\n",
    "# 1. Arithematic operators \n",
    "a=10\n",
    "b=20"
   ]
  },
  {
   "cell_type": "code",
   "execution_count": 19,
   "id": "08d293b5-0986-4a9f-ac72-5ff0ebce2096",
   "metadata": {},
   "outputs": [
    {
     "name": "stdout",
     "output_type": "stream",
     "text": [
      "30\n"
     ]
    }
   ],
   "source": [
    "print(a+b)"
   ]
  },
  {
   "cell_type": "code",
   "execution_count": 21,
   "id": "76fa134a-d650-495f-b176-25ad15cb4f5b",
   "metadata": {},
   "outputs": [
    {
     "name": "stdout",
     "output_type": "stream",
     "text": [
      "-10\n"
     ]
    }
   ],
   "source": [
    "print(a-b)"
   ]
  },
  {
   "cell_type": "code",
   "execution_count": 23,
   "id": "8e2bcec6-08f3-4fc3-b2cf-b0b92c0e8600",
   "metadata": {},
   "outputs": [
    {
     "name": "stdout",
     "output_type": "stream",
     "text": [
      "200\n"
     ]
    }
   ],
   "source": [
    "print(a*b)"
   ]
  },
  {
   "cell_type": "code",
   "execution_count": 25,
   "id": "57058140-c2e0-4fce-8033-50a7c80c8bc9",
   "metadata": {},
   "outputs": [
    {
     "name": "stdout",
     "output_type": "stream",
     "text": [
      "0.5\n"
     ]
    }
   ],
   "source": [
    "print(a/b)"
   ]
  },
  {
   "cell_type": "code",
   "execution_count": 1,
   "id": "5db3987c-c454-4a8c-b99e-4e9a6a765be0",
   "metadata": {},
   "outputs": [],
   "source": [
    "a = 10 \n",
    "b = 20"
   ]
  },
  {
   "cell_type": "code",
   "execution_count": 3,
   "id": "664def62-2812-487d-97f0-15b1f6a1dbf1",
   "metadata": {},
   "outputs": [],
   "source": [
    "if a>b:\n",
    "    print('a is greater than b')"
   ]
  },
  {
   "cell_type": "code",
   "execution_count": 7,
   "id": "1292b098-f7ef-4b63-85ea-cd1c8b7f3868",
   "metadata": {},
   "outputs": [
    {
     "name": "stdout",
     "output_type": "stream",
     "text": [
      "a is not greater than b\n"
     ]
    }
   ],
   "source": [
    "if a>b:\n",
    "    print('a is greater than b')\n",
    "else:\n",
    "    print('a is not greater than b')"
   ]
  },
  {
   "cell_type": "code",
   "execution_count": 9,
   "id": "35078685-3536-4c8e-af76-ddfe6ec977c3",
   "metadata": {},
   "outputs": [],
   "source": [
    "a = 10\n",
    "b = 20\n",
    "c = 30\n"
   ]
  },
  {
   "cell_type": "code",
   "execution_count": 13,
   "id": "304f044d-0e73-4495-9b8b-5ee2a242a61d",
   "metadata": {},
   "outputs": [
    {
     "name": "stdout",
     "output_type": "stream",
     "text": [
      "c is the greatest!\n"
     ]
    }
   ],
   "source": [
    "if (a>b & a>c):\n",
    "    print('a is the greatest!')\n",
    "elif (b>a & b>c):\n",
    "    print('b is the greatest!')\n",
    "else:\n",
    "    print('c is the greatest!')"
   ]
  },
  {
   "cell_type": "code",
   "execution_count": 15,
   "id": "c8327c48-b83e-4500-8681-b1526489805e",
   "metadata": {},
   "outputs": [],
   "source": [
    "#loop\n",
    "i = 1\n"
   ]
  },
  {
   "cell_type": "code",
   "execution_count": 19,
   "id": "02f6cd57-9719-4f43-8617-f952063fd5ec",
   "metadata": {},
   "outputs": [
    {
     "name": "stdout",
     "output_type": "stream",
     "text": [
      "1\n",
      "2\n",
      "3\n",
      "4\n",
      "5\n",
      "6\n",
      "7\n",
      "8\n",
      "9\n",
      "10\n"
     ]
    }
   ],
   "source": [
    "while i<=10:\n",
    "    print(i)\n",
    "    i = i+1"
   ]
  },
  {
   "cell_type": "code",
   "execution_count": 23,
   "id": "0c0a6f4e-0a82-4a73-860e-2284169b8da0",
   "metadata": {},
   "outputs": [],
   "source": [
    "n =2\n",
    "i = 1"
   ]
  },
  {
   "cell_type": "code",
   "execution_count": 25,
   "id": "7a0abc78-33d9-4294-84e8-54904b2f6013",
   "metadata": {},
   "outputs": [
    {
     "name": "stdout",
     "output_type": "stream",
     "text": [
      "2  *  1  =  2\n",
      "2  *  2  =  4\n",
      "2  *  3  =  6\n",
      "2  *  4  =  8\n",
      "2  *  5  =  10\n",
      "2  *  6  =  12\n",
      "2  *  7  =  14\n",
      "2  *  8  =  16\n",
      "2  *  9  =  18\n",
      "2  *  10  =  20\n"
     ]
    }
   ],
   "source": [
    "while i<=10:\n",
    "    print(n, \" * \", i, \" = \", n*i)\n",
    "    i = i+1"
   ]
  },
  {
   "cell_type": "code",
   "execution_count": 29,
   "id": "aa554c62-0948-4dd6-af6f-9c00fd08578e",
   "metadata": {},
   "outputs": [
    {
     "name": "stdin",
     "output_type": "stream",
     "text": [
      "Enter a Number:  10\n"
     ]
    },
    {
     "name": "stdout",
     "output_type": "stream",
     "text": [
      "10  is Even!\n"
     ]
    }
   ],
   "source": [
    "num = int(input('Enter a Number: '))\n",
    "if (num % 2 == 0):\n",
    "    print(num, ' is Even!')\n",
    "else:\n",
    "    print(num, ' is odd!')"
   ]
  },
  {
   "cell_type": "code",
   "execution_count": 45,
   "id": "47745d82-040e-4948-9fbf-0c2b7c816078",
   "metadata": {},
   "outputs": [
    {
     "name": "stdin",
     "output_type": "stream",
     "text": [
      "Enter a Number:  5\n"
     ]
    },
    {
     "name": "stdout",
     "output_type": "stream",
     "text": [
      "Factorial of  5  is:  120\n"
     ]
    }
   ],
   "source": [
    "#factorial \n",
    "num = int(input('Enter a Number: ')) \n",
    "factorial = 1\n",
    "if num<0:\n",
    "    print('Factorial of negative number does not exist!')\n",
    "elif num==0:\n",
    "    print('Factorial of 0 is 1')\n",
    "else:\n",
    "    for i in range(1, num+1):\n",
    "        factorial = factorial*i\n",
    "    print('Factorial of ',num, ' is: ',factorial)"
   ]
  },
  {
   "cell_type": "code",
   "execution_count": 47,
   "id": "fa8153b0-c372-4fdb-b644-6ca2a99ce92e",
   "metadata": {},
   "outputs": [],
   "source": [
    "#functions\n",
    "def hello():\n",
    "    print('Hello World!')"
   ]
  },
  {
   "cell_type": "code",
   "execution_count": 49,
   "id": "ea624200-e269-432c-b4dd-4982743c79da",
   "metadata": {},
   "outputs": [
    {
     "name": "stdout",
     "output_type": "stream",
     "text": [
      "Hello World!\n"
     ]
    }
   ],
   "source": [
    "hello()"
   ]
  },
  {
   "cell_type": "code",
   "execution_count": 51,
   "id": "0c28600c-1282-4320-a85e-920b38919b42",
   "metadata": {},
   "outputs": [],
   "source": [
    "def add10(x):\n",
    "    print(x+10)"
   ]
  },
  {
   "cell_type": "code",
   "execution_count": 53,
   "id": "993df2eb-8a1d-4e54-8a9c-9e16efa070dd",
   "metadata": {},
   "outputs": [
    {
     "name": "stdout",
     "output_type": "stream",
     "text": [
      "15\n"
     ]
    }
   ],
   "source": [
    "add10(5)"
   ]
  },
  {
   "cell_type": "code",
   "execution_count": 55,
   "id": "012bac34-ab72-495e-b09f-611a5ca896ae",
   "metadata": {},
   "outputs": [],
   "source": [
    "def Even_Odd(x):\n",
    "    if x%2 == 0:\n",
    "        print('Number is Even!')\n",
    "    else:\n",
    "        print('Number is odd')"
   ]
  },
  {
   "cell_type": "code",
   "execution_count": 57,
   "id": "e07a33d0-74a4-405e-8c14-8c0c0d1325bb",
   "metadata": {},
   "outputs": [
    {
     "name": "stdout",
     "output_type": "stream",
     "text": [
      "Number is odd\n"
     ]
    }
   ],
   "source": [
    "Even_Odd(5)"
   ]
  },
  {
   "cell_type": "code",
   "execution_count": 59,
   "id": "bc633f53-d5f8-4181-97b0-61ea545d0e68",
   "metadata": {},
   "outputs": [
    {
     "name": "stdout",
     "output_type": "stream",
     "text": [
      "Number is Even!\n"
     ]
    }
   ],
   "source": [
    "Even_Odd(8)"
   ]
  },
  {
   "cell_type": "code",
   "execution_count": 61,
   "id": "ebc15086-8c86-4253-98de-eb37cecf17fa",
   "metadata": {},
   "outputs": [],
   "source": [
    "#lambda \n",
    "res = lambda a: a*a*a\n"
   ]
  },
  {
   "cell_type": "code",
   "execution_count": 63,
   "id": "a1938769-8993-446a-b70c-ce50daefdc6e",
   "metadata": {},
   "outputs": [
    {
     "name": "stdout",
     "output_type": "stream",
     "text": [
      "27\n"
     ]
    }
   ],
   "source": [
    "print(res(3))"
   ]
  },
  {
   "cell_type": "code",
   "execution_count": 65,
   "id": "bf316b87-9f98-4b6b-ae7b-a59da6cb980d",
   "metadata": {},
   "outputs": [
    {
     "name": "stdout",
     "output_type": "stream",
     "text": [
      "64\n"
     ]
    }
   ],
   "source": [
    "print(res(4))"
   ]
  },
  {
   "cell_type": "code",
   "execution_count": null,
   "id": "842ebc7e-49d0-4503-a0b5-85dfe0bcccab",
   "metadata": {},
   "outputs": [],
   "source": []
  }
 ],
 "metadata": {
  "kernelspec": {
   "display_name": "Python 3 (ipykernel)",
   "language": "python",
   "name": "python3"
  },
  "language_info": {
   "codemirror_mode": {
    "name": "ipython",
    "version": 3
   },
   "file_extension": ".py",
   "mimetype": "text/x-python",
   "name": "python",
   "nbconvert_exporter": "python",
   "pygments_lexer": "ipython3",
   "version": "3.12.4"
  }
 },
 "nbformat": 4,
 "nbformat_minor": 5
}
