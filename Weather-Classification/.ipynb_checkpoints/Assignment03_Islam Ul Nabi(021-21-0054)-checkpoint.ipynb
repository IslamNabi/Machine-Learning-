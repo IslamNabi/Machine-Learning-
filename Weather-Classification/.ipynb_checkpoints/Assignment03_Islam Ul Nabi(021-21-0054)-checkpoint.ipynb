{
 "cells": [
  {
   "cell_type": "markdown",
   "id": "19dfcf89-75c4-4aa2-84f5-9442c0873b75",
   "metadata": {},
   "source": [
    "## Importing Necessary Liberaris and Setting Path to dataset"
   ]
  },
  {
   "cell_type": "code",
   "execution_count": 101,
   "id": "707a5729-2227-47cb-a2d0-0446cfa94a97",
   "metadata": {},
   "outputs": [],
   "source": [
    "import os\n",
    "import numpy as np\n",
    "import matplotlib.pyplot as plt\n",
    "import tensorflow as tf\n",
    "from tensorflow.keras.preprocessing.image import ImageDataGenerator\n",
    "from tensorflow.keras.models import Sequential\n",
    "from tensorflow.keras.layers import Conv2D, MaxPooling2D, Flatten, Dense, Dropout\n",
    "from tensorflow.keras.applications import VGG16  # For Task #3\n",
    "from tensorflow.keras.optimizers import Adam\n",
    "from sklearn.metrics import classification_report, accuracy_score\n",
    "\n",
    "# Paths to your data directories\n",
    "train_dir =  r'C:\\Users\\Ali Computers\\Desktop\\Machine-Learning-\\Weather-Classification\\weather classification\\train'\n",
    "val_dir =  r'C:\\Users\\Ali Computers\\Desktop\\Machine-Learning-\\Weather-Classification\\weather classification\\validation'\n",
    "test_dir =  r'C:\\Users\\Ali Computers\\Desktop\\Machine-Learning-\\Weather-Classification\\weather classification\\test'\n",
    "\n",
    "# Define image size and batch size\n",
    "img_size = (128, 128)\n",
    "batch_size = 32\n",
    "num_classes = 4 \n"
   ]
  },
  {
   "cell_type": "markdown",
   "id": "1ba0c400-a1af-4638-987d-4c304cc7c0b1",
   "metadata": {},
   "source": [
    "## Confirming Paths and checking image sizes"
   ]
  },
  {
   "cell_type": "code",
   "execution_count": 103,
   "id": "557bf459-39e4-4149-bc51-3a6ea7682534",
   "metadata": {},
   "outputs": [
    {
     "name": "stdout",
     "output_type": "stream",
     "text": [
      "File exists: True\n"
     ]
    }
   ],
   "source": [
    "import os\n",
    "\n",
    "image_path = r'C:\\Users\\Ali Computers\\Desktop\\Machine-Learning-\\Weather-Classification\\weather classification\\train\\cloudy\\cloudy10.jpg'\n",
    "print(\"File exists:\", os.path.exists(image_path))\n"
   ]
  },
  {
   "cell_type": "code",
   "execution_count": 104,
   "id": "222730a6-8481-42bd-9172-3dcf04a36b44",
   "metadata": {},
   "outputs": [
    {
     "data": {
      "text/plain": [
       "(300, 168)"
      ]
     },
     "execution_count": 104,
     "metadata": {},
     "output_type": "execute_result"
    }
   ],
   "source": [
    "from PIL import Image\n",
    "\n",
    "# Load the image\n",
    "image_path = r'C:\\Users\\Ali Computers\\Desktop\\Machine-Learning-\\Weather-Classification\\weather classification\\train\\cloudy\\cloudy12.jpg'\n",
    "image = Image.open(image_path)\n",
    "\n",
    "# Get image size\n",
    "imageSize = image.size\n",
    "imageSize\n"
   ]
  },
  {
   "cell_type": "code",
   "execution_count": 105,
   "id": "6d1208a4-1718-4b66-a3ab-54232aca51cc",
   "metadata": {},
   "outputs": [
    {
     "data": {
      "text/plain": [
       "(306, 165)"
      ]
     },
     "execution_count": 105,
     "metadata": {},
     "output_type": "execute_result"
    }
   ],
   "source": [
    "from PIL import Image\n",
    "\n",
    "# Load the image\n",
    "image_path = r'C:\\Users\\Ali Computers\\Desktop\\Machine-Learning-\\Weather-Classification\\weather classification\\train\\cloudy\\cloudy13.jpg'\n",
    "image = Image.open(image_path)\n",
    "\n",
    "# Get image size\n",
    "imageSize = image.size\n",
    "imageSize"
   ]
  },
  {
   "cell_type": "markdown",
   "id": "40fa91b2-4e82-4169-98ea-c63b75fb1db0",
   "metadata": {},
   "source": [
    "## Rescaling Images "
   ]
  },
  {
   "cell_type": "code",
   "execution_count": 107,
   "id": "780601f5-ca7f-4a2a-afa8-c7a4d94c3d1d",
   "metadata": {},
   "outputs": [
    {
     "name": "stdout",
     "output_type": "stream",
     "text": [
      "Found 400 images belonging to 4 classes.\n",
      "Found 200 images belonging to 4 classes.\n",
      "Found 525 images belonging to 4 classes.\n"
     ]
    }
   ],
   "source": [
    "# Initialize ImageDataGenerators\n",
    "train_datagen = ImageDataGenerator(rescale=1.0/255)\n",
    "val_datagen = ImageDataGenerator(rescale=1.0/255)\n",
    "test_datagen = ImageDataGenerator(rescale=1.0/255)\n",
    "\n",
    "# Load images with flow_from_directory\n",
    "train_generator = train_datagen.flow_from_directory(\n",
    "    train_dir,\n",
    "    target_size=img_size,\n",
    "    batch_size=batch_size,\n",
    "    class_mode='categorical'\n",
    ")\n",
    "\n",
    "val_generator = val_datagen.flow_from_directory(\n",
    "    val_dir,\n",
    "    target_size=img_size,\n",
    "    batch_size=batch_size,\n",
    "    class_mode='categorical'\n",
    ")\n",
    "\n",
    "test_generator = test_datagen.flow_from_directory(\n",
    "    test_dir,\n",
    "    target_size=img_size,\n",
    "    batch_size=batch_size,\n",
    "    class_mode='categorical',\n",
    "    shuffle=False  # No shuffling for accurate evaluation\n",
    ")\n"
   ]
  },
  {
   "cell_type": "markdown",
   "id": "716af080-70ec-4c02-a008-1f1a832d4559",
   "metadata": {},
   "source": [
    "## Checking Scaled Image"
   ]
  },
  {
   "cell_type": "code",
   "execution_count": 123,
   "id": "f20169f5-8989-4537-9d51-11509aabb9bf",
   "metadata": {},
   "outputs": [
    {
     "name": "stdout",
     "output_type": "stream",
     "text": [
      "Pixel value range After scaling: 0.0 to 1.0\n"
     ]
    }
   ],
   "source": [
    "# Get one batch of images and labels from the train generator\n",
    "images, labels = next(train_generator)\n",
    "\n",
    "# Print the range of pixel values in the first image of the batch\n",
    "print(\"Pixel value range After scaling:\", images[1].min(), \"to\", images[1].max())\n"
   ]
  },
  {
   "cell_type": "markdown",
   "id": "0edb181f-a567-49d3-9bcd-ac4f6e9542d2",
   "metadata": {},
   "source": [
    "## Define the CNN Model "
   ]
  },
  {
   "cell_type": "code",
   "execution_count": 126,
   "id": "22b043bf-58c4-4a20-8c45-79b1f8ffb085",
   "metadata": {},
   "outputs": [
    {
     "name": "stderr",
     "output_type": "stream",
     "text": [
      "C:\\Users\\Ali Computers\\anaconda3\\Lib\\site-packages\\keras\\src\\layers\\convolutional\\base_conv.py:107: UserWarning: Do not pass an `input_shape`/`input_dim` argument to a layer. When using Sequential models, prefer using an `Input(shape)` object as the first layer in the model instead.\n",
      "  super().__init__(activity_regularizer=activity_regularizer, **kwargs)\n"
     ]
    }
   ],
   "source": [
    "model = Sequential([\n",
    "    Conv2D(32, (3, 3), activation='relu', input_shape=(img_size[0], img_size[1], 3)),\n",
    "    MaxPooling2D(pool_size=(2, 2)),\n",
    "    \n",
    "    Conv2D(64, (3, 3), activation='relu'),\n",
    "    MaxPooling2D(pool_size=(2, 2)),\n",
    "    \n",
    "    Conv2D(128, (3, 3), activation='relu'),\n",
    "    MaxPooling2D(pool_size=(2, 2)),\n",
    "    \n",
    "    Flatten(),\n",
    "    Dense(128, activation='relu'),\n",
    "    Dropout(0.5),\n",
    "    Dense(num_classes, activation='softmax')\n",
    "])\n",
    "\n",
    "# Compile the model\n",
    "model.compile(optimizer=Adam(learning_rate=0.001), loss='categorical_crossentropy', metrics=['accuracy'])\n"
   ]
  },
  {
   "cell_type": "markdown",
   "id": "25993262-468d-4e25-9e2a-f6419b2a7c53",
   "metadata": {},
   "source": [
    "## Train the Model"
   ]
  },
  {
   "cell_type": "code",
   "execution_count": 129,
   "id": "62cd97f9-bbbd-4ca1-a7eb-34afdcef32a6",
   "metadata": {},
   "outputs": [
    {
     "name": "stdout",
     "output_type": "stream",
     "text": [
      "Epoch 1/10\n"
     ]
    },
    {
     "name": "stderr",
     "output_type": "stream",
     "text": [
      "C:\\Users\\Ali Computers\\anaconda3\\Lib\\site-packages\\keras\\src\\trainers\\data_adapters\\py_dataset_adapter.py:122: UserWarning: Your `PyDataset` class should call `super().__init__(**kwargs)` in its constructor. `**kwargs` can include `workers`, `use_multiprocessing`, `max_queue_size`. Do not pass these arguments to `fit()`, as they will be ignored.\n",
      "  self._warn_if_super_not_called()\n"
     ]
    },
    {
     "name": "stdout",
     "output_type": "stream",
     "text": [
      "\u001b[1m13/13\u001b[0m \u001b[32m━━━━━━━━━━━━━━━━━━━━\u001b[0m\u001b[37m\u001b[0m \u001b[1m25s\u001b[0m 1s/step - accuracy: 0.3678 - loss: 1.2247 - val_accuracy: 0.6500 - val_loss: 0.8845\n",
      "Epoch 2/10\n",
      "\u001b[1m13/13\u001b[0m \u001b[32m━━━━━━━━━━━━━━━━━━━━\u001b[0m\u001b[37m\u001b[0m \u001b[1m13s\u001b[0m 538ms/step - accuracy: 0.7390 - loss: 0.6688 - val_accuracy: 0.8000 - val_loss: 0.5775\n",
      "Epoch 3/10\n",
      "\u001b[1m13/13\u001b[0m \u001b[32m━━━━━━━━━━━━━━━━━━━━\u001b[0m\u001b[37m\u001b[0m \u001b[1m13s\u001b[0m 636ms/step - accuracy: 0.7912 - loss: 0.5371 - val_accuracy: 0.7900 - val_loss: 0.5706\n",
      "Epoch 4/10\n",
      "\u001b[1m13/13\u001b[0m \u001b[32m━━━━━━━━━━━━━━━━━━━━\u001b[0m\u001b[37m\u001b[0m \u001b[1m13s\u001b[0m 601ms/step - accuracy: 0.8326 - loss: 0.4174 - val_accuracy: 0.7850 - val_loss: 0.6551\n",
      "Epoch 5/10\n",
      "\u001b[1m13/13\u001b[0m \u001b[32m━━━━━━━━━━━━━━━━━━━━\u001b[0m\u001b[37m\u001b[0m \u001b[1m13s\u001b[0m 719ms/step - accuracy: 0.8754 - loss: 0.3292 - val_accuracy: 0.8000 - val_loss: 0.6825\n",
      "Epoch 6/10\n",
      "\u001b[1m13/13\u001b[0m \u001b[32m━━━━━━━━━━━━━━━━━━━━\u001b[0m\u001b[37m\u001b[0m \u001b[1m13s\u001b[0m 702ms/step - accuracy: 0.9034 - loss: 0.2816 - val_accuracy: 0.7900 - val_loss: 0.8165\n",
      "Epoch 7/10\n",
      "\u001b[1m13/13\u001b[0m \u001b[32m━━━━━━━━━━━━━━━━━━━━\u001b[0m\u001b[37m\u001b[0m \u001b[1m13s\u001b[0m 657ms/step - accuracy: 0.9108 - loss: 0.2747 - val_accuracy: 0.8100 - val_loss: 0.5526\n",
      "Epoch 8/10\n",
      "\u001b[1m13/13\u001b[0m \u001b[32m━━━━━━━━━━━━━━━━━━━━\u001b[0m\u001b[37m\u001b[0m \u001b[1m13s\u001b[0m 720ms/step - accuracy: 0.9065 - loss: 0.2293 - val_accuracy: 0.8300 - val_loss: 0.5053\n",
      "Epoch 9/10\n",
      "\u001b[1m13/13\u001b[0m \u001b[32m━━━━━━━━━━━━━━━━━━━━\u001b[0m\u001b[37m\u001b[0m \u001b[1m13s\u001b[0m 613ms/step - accuracy: 0.9282 - loss: 0.2430 - val_accuracy: 0.8300 - val_loss: 0.5747\n",
      "Epoch 10/10\n",
      "\u001b[1m13/13\u001b[0m \u001b[32m━━━━━━━━━━━━━━━━━━━━\u001b[0m\u001b[37m\u001b[0m \u001b[1m13s\u001b[0m 640ms/step - accuracy: 0.9193 - loss: 0.1894 - val_accuracy: 0.8400 - val_loss: 0.5320\n"
     ]
    }
   ],
   "source": [
    "# Train the model\n",
    "history = model.fit(\n",
    "    train_generator,\n",
    "    epochs=10,\n",
    "    validation_data=val_generator\n",
    ")\n"
   ]
  },
  {
   "cell_type": "markdown",
   "id": "243fbcd2-e1a3-4ccc-b978-c72493d198ac",
   "metadata": {},
   "source": [
    "## Accuracy on test dataset"
   ]
  },
  {
   "cell_type": "code",
   "execution_count": 131,
   "id": "ff68d501-65c4-4604-a81b-c13a5b8eae76",
   "metadata": {},
   "outputs": [
    {
     "name": "stdout",
     "output_type": "stream",
     "text": [
      "\u001b[1m17/17\u001b[0m \u001b[32m━━━━━━━━━━━━━━━━━━━━\u001b[0m\u001b[37m\u001b[0m \u001b[1m9s\u001b[0m 557ms/step - accuracy: 0.8690 - loss: 0.5480\n",
      "Test accuracy (Task #1): 90.10%\n"
     ]
    }
   ],
   "source": [
    "# Test accuracy\n",
    "test_loss, test_accuracy = model.evaluate(test_generator)\n",
    "print(f\"Test accuracy (Task #1): {test_accuracy * 100:.2f}%\")\n"
   ]
  },
  {
   "cell_type": "code",
   "execution_count": 136,
   "id": "7a1a6fcc-e22b-455e-9456-6cf32624afdf",
   "metadata": {},
   "outputs": [
    {
     "data": {
      "image/png": "[encoded data removed]",
      "text/plain": [
       "<Figure size 640x480 with 1 Axes>"
      ]
     },
     "metadata": {},
     "output_type": "display_data"
    }
   ],
   "source": [
    "# Plotting accuracy and loss curves\n",
    "plt.plot(history.history['accuracy'], label='Training Accuracy')\n",
    "plt.plot(history.history['val_accuracy'], label='Validation Accuracy')\n",
    "plt.title('Training and Validation Accuracy')\n",
    "plt.xlabel('Epoch')\n",
    "plt.ylabel('Accuracy')\n",
    "plt.legend()\n",
    "plt.show()\n"
   ]
  },
  {
   "cell_type": "markdown",
   "id": "903e26fa-160a-417e-b32b-df07a8e8fc9f",
   "metadata": {},
   "source": [
    "## Augment Data and Retrain "
   ]
  },
  {
   "cell_type": "code",
   "execution_count": 143,
   "id": "05ff5651-179a-4b11-b321-78af73e0cced",
   "metadata": {},
   "outputs": [
    {
     "name": "stdout",
     "output_type": "stream",
     "text": [
      "Found 400 images belonging to 4 classes.\n",
      "Epoch 1/20\n",
      "\u001b[1m13/13\u001b[0m \u001b[32m━━━━━━━━━━━━━━━━━━━━\u001b[0m\u001b[37m\u001b[0m \u001b[1m17s\u001b[0m 879ms/step - accuracy: 0.9036 - loss: 0.2913 - val_accuracy: 0.8500 - val_loss: 0.4867\n",
      "Epoch 2/20\n",
      "\u001b[1m13/13\u001b[0m \u001b[32m━━━━━━━━━━━━━━━━━━━━\u001b[0m\u001b[37m\u001b[0m \u001b[1m16s\u001b[0m 867ms/step - accuracy: 0.9346 - loss: 0.2274 - val_accuracy: 0.8350 - val_loss: 0.6048\n",
      "Epoch 3/20\n",
      "\u001b[1m13/13\u001b[0m \u001b[32m━━━━━━━━━━━━━━━━━━━━\u001b[0m\u001b[37m\u001b[0m \u001b[1m16s\u001b[0m 770ms/step - accuracy: 0.9231 - loss: 0.2249 - val_accuracy: 0.7450 - val_loss: 1.0178\n",
      "Epoch 4/20\n",
      "\u001b[1m13/13\u001b[0m \u001b[32m━━━━━━━━━━━━━━━━━━━━\u001b[0m\u001b[37m\u001b[0m \u001b[1m16s\u001b[0m 810ms/step - accuracy: 0.8835 - loss: 0.3222 - val_accuracy: 0.8500 - val_loss: 0.5164\n",
      "Epoch 5/20\n",
      "\u001b[1m13/13\u001b[0m \u001b[32m━━━━━━━━━━━━━━━━━━━━\u001b[0m\u001b[37m\u001b[0m \u001b[1m16s\u001b[0m 799ms/step - accuracy: 0.9220 - loss: 0.2446 - val_accuracy: 0.8400 - val_loss: 0.5922\n",
      "Epoch 6/20\n",
      "\u001b[1m13/13\u001b[0m \u001b[32m━━━━━━━━━━━━━━━━━━━━\u001b[0m\u001b[37m\u001b[0m \u001b[1m16s\u001b[0m 842ms/step - accuracy: 0.9009 - loss: 0.2691 - val_accuracy: 0.8400 - val_loss: 0.5019\n",
      "Epoch 7/20\n",
      "\u001b[1m13/13\u001b[0m \u001b[32m━━━━━━━━━━━━━━━━━━━━\u001b[0m\u001b[37m\u001b[0m \u001b[1m16s\u001b[0m 820ms/step - accuracy: 0.9385 - loss: 0.2099 - val_accuracy: 0.8250 - val_loss: 0.6754\n",
      "Epoch 8/20\n",
      "\u001b[1m13/13\u001b[0m \u001b[32m━━━━━━━━━━━━━━━━━━━━\u001b[0m\u001b[37m\u001b[0m \u001b[1m16s\u001b[0m 815ms/step - accuracy: 0.9480 - loss: 0.1965 - val_accuracy: 0.8450 - val_loss: 0.5499\n",
      "Epoch 9/20\n",
      "\u001b[1m13/13\u001b[0m \u001b[32m━━━━━━━━━━━━━━━━━━━━\u001b[0m\u001b[37m\u001b[0m \u001b[1m16s\u001b[0m 707ms/step - accuracy: 0.9252 - loss: 0.2187 - val_accuracy: 0.8450 - val_loss: 0.4757\n",
      "Epoch 10/20\n",
      "\u001b[1m13/13\u001b[0m \u001b[32m━━━━━━━━━━━━━━━━━━━━\u001b[0m\u001b[37m\u001b[0m \u001b[1m16s\u001b[0m 731ms/step - accuracy: 0.9528 - loss: 0.1769 - val_accuracy: 0.8500 - val_loss: 0.5839\n",
      "Epoch 11/20\n",
      "\u001b[1m13/13\u001b[0m \u001b[32m━━━━━━━━━━━━━━━━━━━━\u001b[0m\u001b[37m\u001b[0m \u001b[1m16s\u001b[0m 809ms/step - accuracy: 0.9170 - loss: 0.2458 - val_accuracy: 0.8400 - val_loss: 0.6858\n",
      "Epoch 12/20\n",
      "\u001b[1m13/13\u001b[0m \u001b[32m━━━━━━━━━━━━━━━━━━━━\u001b[0m\u001b[37m\u001b[0m \u001b[1m16s\u001b[0m 770ms/step - accuracy: 0.9498 - loss: 0.1389 - val_accuracy: 0.8650 - val_loss: 0.5882\n",
      "Epoch 13/20\n",
      "\u001b[1m13/13\u001b[0m \u001b[32m━━━━━━━━━━━━━━━━━━━━\u001b[0m\u001b[37m\u001b[0m \u001b[1m16s\u001b[0m 762ms/step - accuracy: 0.9228 - loss: 0.2270 - val_accuracy: 0.8150 - val_loss: 0.6370\n",
      "Epoch 14/20\n",
      "\u001b[1m13/13\u001b[0m \u001b[32m━━━━━━━━━━━━━━━━━━━━\u001b[0m\u001b[37m\u001b[0m \u001b[1m16s\u001b[0m 770ms/step - accuracy: 0.9198 - loss: 0.1958 - val_accuracy: 0.8450 - val_loss: 0.5026\n",
      "Epoch 15/20\n",
      "\u001b[1m13/13\u001b[0m \u001b[32m━━━━━━━━━━━━━━━━━━━━\u001b[0m\u001b[37m\u001b[0m \u001b[1m16s\u001b[0m 732ms/step - accuracy: 0.9435 - loss: 0.2105 - val_accuracy: 0.8300 - val_loss: 0.6007\n",
      "Epoch 16/20\n",
      "\u001b[1m13/13\u001b[0m \u001b[32m━━━━━━━━━━━━━━━━━━━━\u001b[0m\u001b[37m\u001b[0m \u001b[1m16s\u001b[0m 819ms/step - accuracy: 0.9405 - loss: 0.1505 - val_accuracy: 0.8400 - val_loss: 0.5790\n",
      "Epoch 17/20\n",
      "\u001b[1m13/13\u001b[0m \u001b[32m━━━━━━━━━━━━━━━━━━━━\u001b[0m\u001b[37m\u001b[0m \u001b[1m16s\u001b[0m 784ms/step - accuracy: 0.9434 - loss: 0.1598 - val_accuracy: 0.8700 - val_loss: 0.5382\n",
      "Epoch 18/20\n",
      "\u001b[1m13/13\u001b[0m \u001b[32m━━━━━━━━━━━━━━━━━━━━\u001b[0m\u001b[37m\u001b[0m \u001b[1m16s\u001b[0m 826ms/step - accuracy: 0.9029 - loss: 0.2294 - val_accuracy: 0.7950 - val_loss: 1.0567\n",
      "Epoch 19/20\n",
      "\u001b[1m13/13\u001b[0m \u001b[32m━━━━━━━━━━━━━━━━━━━━\u001b[0m\u001b[37m\u001b[0m \u001b[1m16s\u001b[0m 718ms/step - accuracy: 0.9535 - loss: 0.1605 - val_accuracy: 0.8550 - val_loss: 0.4914\n",
      "Epoch 20/20\n",
      "\u001b[1m13/13\u001b[0m \u001b[32m━━━━━━━━━━━━━━━━━━━━\u001b[0m\u001b[37m\u001b[0m \u001b[1m16s\u001b[0m 760ms/step - accuracy: 0.9190 - loss: 0.2536 - val_accuracy: 0.8350 - val_loss: 0.7546\n",
      "\u001b[1m17/17\u001b[0m \u001b[32m━━━━━━━━━━━━━━━━━━━━\u001b[0m\u001b[37m\u001b[0m \u001b[1m4s\u001b[0m 233ms/step - accuracy: 0.9245 - loss: 0.2902\n",
      "Test accuracy with augmentation (Task #2): 94.10%\n"
     ]
    }
   ],
   "source": [
    "# Augmented data generator\n",
    "train_datagen_aug = ImageDataGenerator(\n",
    "    rescale=1.0/255,\n",
    "    rotation_range=40,\n",
    "    width_shift_range=0.2,\n",
    "    height_shift_range=0.2,\n",
    "    shear_range=0.2,\n",
    "    zoom_range=0.2,\n",
    "    horizontal_flip=True,\n",
    "    fill_mode='nearest'\n",
    ")\n",
    "\n",
    "# Apply augmentation\n",
    "train_generator_aug = train_datagen_aug.flow_from_directory(\n",
    "    train_dir,\n",
    "    target_size=img_size,\n",
    "    batch_size=batch_size,\n",
    "    class_mode='categorical'\n",
    ")\n",
    "\n",
    "# Train the model with augmentation\n",
    "history_aug = model.fit(\n",
    "    train_generator_aug,\n",
    "    epochs=20,\n",
    "    validation_data=val_generator\n",
    ")\n",
    "\n",
    "# Evaluate the model on the test set after augmentation\n",
    "test_loss_aug, test_accuracy_aug = model.evaluate(test_generator)\n",
    "print(f\"Test accuracy with augmentation (Task #2): {test_accuracy_aug * 100:.2f}%\")\n"
   ]
  },
  {
   "cell_type": "markdown",
   "id": "4b3c70ad-c6c7-4d44-9a6a-a7b41f1d0ba0",
   "metadata": {},
   "source": [
    "## Load a Pre-trained Model (VGG16)"
   ]
  },
  {
   "cell_type": "code",
   "execution_count": 146,
   "id": "57c16877-3e74-4e90-aff1-1b80d6e6b240",
   "metadata": {},
   "outputs": [
    {
     "name": "stdout",
     "output_type": "stream",
     "text": [
      "Downloading data from https://storage.googleapis.com/tensorflow/keras-applications/vgg16/vgg16_weights_tf_dim_ordering_tf_kernels_notop.h5\n",
      "\u001b[1m58889256/58889256\u001b[0m \u001b[32m━━━━━━━━━━━━━━━━━━━━\u001b[0m\u001b[37m\u001b[0m \u001b[1m22s\u001b[0m 0us/step\n"
     ]
    }
   ],
   "source": [
    "# Load pre-trained VGG16 model + higher level layers\n",
    "base_model = VGG16(weights='imagenet', include_top=False, input_shape=(img_size[0], img_size[1], 3))\n",
    "base_model.trainable = False  # Freeze the convolutional base\n",
    "\n",
    "# Add custom classification layers\n",
    "model_vgg = Sequential([\n",
    "    base_model,\n",
    "    Flatten(),\n",
    "    Dense(256, activation='relu'),\n",
    "    Dropout(0.5),\n",
    "    Dense(num_classes, activation='softmax')\n",
    "])\n",
    "\n",
    "# Compile the model\n",
    "model_vgg.compile(optimizer=Adam(learning_rate=0.001), loss='categorical_crossentropy', metrics=['accuracy'])\n"
   ]
  },
  {
   "cell_type": "code",
   "execution_count": 148,
   "id": "054f9443-fba3-40e6-849f-cf7c845a2817",
   "metadata": {},
   "outputs": [
    {
     "name": "stdout",
     "output_type": "stream",
     "text": [
      "Epoch 1/20\n",
      "\u001b[1m13/13\u001b[0m \u001b[32m━━━━━━━━━━━━━━━━━━━━\u001b[0m\u001b[37m\u001b[0m \u001b[1m54s\u001b[0m 3s/step - accuracy: 0.3402 - loss: 2.7529 - val_accuracy: 0.4150 - val_loss: 1.2343\n",
      "Epoch 2/20\n",
      "\u001b[1m13/13\u001b[0m \u001b[32m━━━━━━━━━━━━━━━━━━━━\u001b[0m\u001b[37m\u001b[0m \u001b[1m49s\u001b[0m 3s/step - accuracy: 0.6061 - loss: 0.9466 - val_accuracy: 0.6500 - val_loss: 0.8380\n",
      "Epoch 3/20\n",
      "\u001b[1m13/13\u001b[0m \u001b[32m━━━━━━━━━━━━━━━━━━━━\u001b[0m\u001b[37m\u001b[0m \u001b[1m48s\u001b[0m 3s/step - accuracy: 0.7942 - loss: 0.5997 - val_accuracy: 0.7200 - val_loss: 0.6981\n",
      "Epoch 4/20\n",
      "\u001b[1m13/13\u001b[0m \u001b[32m━━━━━━━━━━━━━━━━━━━━\u001b[0m\u001b[37m\u001b[0m \u001b[1m48s\u001b[0m 3s/step - accuracy: 0.8543 - loss: 0.4531 - val_accuracy: 0.8200 - val_loss: 0.5593\n",
      "Epoch 5/20\n",
      "\u001b[1m13/13\u001b[0m \u001b[32m━━━━━━━━━━━━━━━━━━━━\u001b[0m\u001b[37m\u001b[0m \u001b[1m48s\u001b[0m 3s/step - accuracy: 0.8720 - loss: 0.4302 - val_accuracy: 0.8450 - val_loss: 0.4621\n",
      "Epoch 6/20\n",
      "\u001b[1m13/13\u001b[0m \u001b[32m━━━━━━━━━━━━━━━━━━━━\u001b[0m\u001b[37m\u001b[0m \u001b[1m48s\u001b[0m 3s/step - accuracy: 0.8693 - loss: 0.3644 - val_accuracy: 0.7600 - val_loss: 0.5665\n",
      "Epoch 7/20\n",
      "\u001b[1m13/13\u001b[0m \u001b[32m━━━━━━━━━━━━━━━━━━━━\u001b[0m\u001b[37m\u001b[0m \u001b[1m48s\u001b[0m 3s/step - accuracy: 0.9312 - loss: 0.2433 - val_accuracy: 0.8050 - val_loss: 0.5102\n",
      "Epoch 8/20\n",
      "\u001b[1m13/13\u001b[0m \u001b[32m━━━━━━━━━━━━━━━━━━━━\u001b[0m\u001b[37m\u001b[0m \u001b[1m48s\u001b[0m 3s/step - accuracy: 0.9124 - loss: 0.2814 - val_accuracy: 0.7750 - val_loss: 0.5561\n",
      "Epoch 9/20\n",
      "\u001b[1m13/13\u001b[0m \u001b[32m━━━━━━━━━━━━━━━━━━━━\u001b[0m\u001b[37m\u001b[0m \u001b[1m48s\u001b[0m 3s/step - accuracy: 0.9157 - loss: 0.2661 - val_accuracy: 0.8400 - val_loss: 0.4334\n",
      "Epoch 10/20\n",
      "\u001b[1m13/13\u001b[0m \u001b[32m━━━━━━━━━━━━━━━━━━━━\u001b[0m\u001b[37m\u001b[0m \u001b[1m48s\u001b[0m 3s/step - accuracy: 0.9078 - loss: 0.2564 - val_accuracy: 0.8100 - val_loss: 0.5085\n",
      "Epoch 11/20\n",
      "\u001b[1m13/13\u001b[0m \u001b[32m━━━━━━━━━━━━━━━━━━━━\u001b[0m\u001b[37m\u001b[0m \u001b[1m48s\u001b[0m 3s/step - accuracy: 0.9288 - loss: 0.2343 - val_accuracy: 0.8000 - val_loss: 0.4948\n",
      "Epoch 12/20\n",
      "\u001b[1m13/13\u001b[0m \u001b[32m━━━━━━━━━━━━━━━━━━━━\u001b[0m\u001b[37m\u001b[0m \u001b[1m48s\u001b[0m 3s/step - accuracy: 0.9298 - loss: 0.2484 - val_accuracy: 0.8200 - val_loss: 0.4322\n",
      "Epoch 13/20\n",
      "\u001b[1m13/13\u001b[0m \u001b[32m━━━━━━━━━━━━━━━━━━━━\u001b[0m\u001b[37m\u001b[0m \u001b[1m64s\u001b[0m 3s/step - accuracy: 0.9486 - loss: 0.1853 - val_accuracy: 0.8250 - val_loss: 0.4140\n",
      "Epoch 14/20\n",
      "\u001b[1m13/13\u001b[0m \u001b[32m━━━━━━━━━━━━━━━━━━━━\u001b[0m\u001b[37m\u001b[0m \u001b[1m45s\u001b[0m 3s/step - accuracy: 0.9497 - loss: 0.1415 - val_accuracy: 0.8400 - val_loss: 0.4069\n",
      "Epoch 15/20\n",
      "\u001b[1m13/13\u001b[0m \u001b[32m━━━━━━━━━━━━━━━━━━━━\u001b[0m\u001b[37m\u001b[0m \u001b[1m49s\u001b[0m 3s/step - accuracy: 0.9432 - loss: 0.1630 - val_accuracy: 0.8150 - val_loss: 0.4489\n",
      "Epoch 16/20\n",
      "\u001b[1m13/13\u001b[0m \u001b[32m━━━━━━━━━━━━━━━━━━━━\u001b[0m\u001b[37m\u001b[0m \u001b[1m48s\u001b[0m 3s/step - accuracy: 0.9444 - loss: 0.1637 - val_accuracy: 0.8500 - val_loss: 0.4260\n",
      "Epoch 17/20\n",
      "\u001b[1m13/13\u001b[0m \u001b[32m━━━━━━━━━━━━━━━━━━━━\u001b[0m\u001b[37m\u001b[0m \u001b[1m47s\u001b[0m 3s/step - accuracy: 0.9454 - loss: 0.1599 - val_accuracy: 0.8100 - val_loss: 0.5648\n",
      "Epoch 18/20\n",
      "\u001b[1m13/13\u001b[0m \u001b[32m━━━━━━━━━━━━━━━━━━━━\u001b[0m\u001b[37m\u001b[0m \u001b[1m47s\u001b[0m 3s/step - accuracy: 0.9363 - loss: 0.1597 - val_accuracy: 0.8300 - val_loss: 0.4496\n",
      "Epoch 19/20\n",
      "\u001b[1m13/13\u001b[0m \u001b[32m━━━━━━━━━━━━━━━━━━━━\u001b[0m\u001b[37m\u001b[0m \u001b[1m49s\u001b[0m 3s/step - accuracy: 0.9272 - loss: 0.2104 - val_accuracy: 0.8700 - val_loss: 0.4013\n",
      "Epoch 20/20\n",
      "\u001b[1m13/13\u001b[0m \u001b[32m━━━━━━━━━━━━━━━━━━━━\u001b[0m\u001b[37m\u001b[0m \u001b[1m47s\u001b[0m 3s/step - accuracy: 0.9360 - loss: 0.1935 - val_accuracy: 0.8300 - val_loss: 0.4632\n",
      "\u001b[1m17/17\u001b[0m \u001b[32m━━━━━━━━━━━━━━━━━━━━\u001b[0m\u001b[37m\u001b[0m \u001b[1m35s\u001b[0m 2s/step - accuracy: 0.8855 - loss: 0.3156\n",
      "Test accuracy with pre-trained VGG16 (Task #3): 89.33%\n"
     ]
    }
   ],
   "source": [
    "# Train the feature-extracted model\n",
    "history_vgg = model_vgg.fit(\n",
    "    train_generator_aug,\n",
    "    epochs=20,\n",
    "    validation_data=val_generator\n",
    ")\n",
    "\n",
    "# Evaluate the VGG16 model on the test set\n",
    "test_loss_vgg, test_accuracy_vgg = model_vgg.evaluate(test_generator)\n",
    "print(f\"Test accuracy with pre-trained VGG16 (Task #3): {test_accuracy_vgg * 100:.2f}%\")\n"
   ]
  },
  {
   "cell_type": "markdown",
   "id": "0bbd5b4e-7835-40ee-a544-0de16667af5d",
   "metadata": {},
   "source": [
    "## Summary"
   ]
  },
  {
   "cell_type": "code",
   "execution_count": 152,
   "id": "5f9f2361-d0ec-4016-a046-c06c85ddc916",
   "metadata": {},
   "outputs": [
    {
     "name": "stdout",
     "output_type": "stream",
     "text": [
      "Summary of Test Accuracies:\n",
      "Simple CNN (Task #1): 90.10%\n",
      "With Augmentation (Task #2): 94.10%\n",
      "With Pre-trained VGG16 (Task #3): 89.33%\n"
     ]
    }
   ],
   "source": [
    "print(\"Summary of Test Accuracies:\")\n",
    "print(f\"Simple CNN (Task #1): {test_accuracy * 100:.2f}%\")\n",
    "print(f\"With Augmentation (Task #2): {test_accuracy_aug * 100:.2f}%\")\n",
    "print(f\"With Pre-trained VGG16 (Task #3): {test_accuracy_vgg * 100:.2f}%\")\n"
   ]
  },
  {
   "cell_type": "code",
   "execution_count": null,
   "id": "dc72c8e6-e65d-48d5-aa32-0035ac55b53d",
   "metadata": {},
   "outputs": [],
   "source": []
  }
 ],
 "metadata": {
  "kernelspec": {
   "display_name": "Python 3 (ipykernel)",
   "language": "python",
   "name": "python3"
  },
  "language_info": {
   "codemirror_mode": {
    "name": "ipython",
    "version": 3
   },
   "file_extension": ".py",
   "mimetype": "text/x-python",
   "name": "python",
   "nbconvert_exporter": "python",
   "pygments_lexer": "ipython3",
   "version": "3.12.4"
  }
 },
 "nbformat": 4,
 "nbformat_minor": 5
}
