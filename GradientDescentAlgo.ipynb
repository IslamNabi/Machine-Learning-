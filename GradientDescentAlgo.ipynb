{
 "cells": [
  {
   "cell_type": "code",
   "execution_count": 11,
   "id": "b0b8e3e3-6c7c-4755-b9fc-65d00399815c",
   "metadata": {},
   "outputs": [
    {
     "name": "stdout",
     "output_type": "stream",
     "text": [
      "Iteration 10: m = 0.8094, b = 0.0007, Cost = 0.1859\n",
      "Iteration 20: m = 0.8163, b = 0.0012, Cost = 0.1349\n",
      "Iteration 30: m = 0.8214, b = 0.0015, Cost = 0.1070\n",
      "Iteration 40: m = 0.8252, b = 0.0018, Cost = 0.0916\n",
      "Iteration 50: m = 0.8281, b = 0.0019, Cost = 0.0832\n",
      "Iteration 60: m = 0.8302, b = 0.0020, Cost = 0.0785\n",
      "Iteration 70: m = 0.8317, b = 0.0021, Cost = 0.0760\n",
      "Iteration 80: m = 0.8329, b = 0.0021, Cost = 0.0746\n",
      "Iteration 90: m = 0.8337, b = 0.0021, Cost = 0.0738\n",
      "Iteration 100: m = 0.8344, b = 0.0021, Cost = 0.0734\n",
      "Iteration 110: m = 0.8348, b = 0.0020, Cost = 0.0732\n",
      "Iteration 120: m = 0.8352, b = 0.0020, Cost = 0.0730\n",
      "Iteration 130: m = 0.8354, b = 0.0020, Cost = 0.0730\n",
      "Iteration 140: m = 0.8356, b = 0.0019, Cost = 0.0729\n",
      "Iteration 150: m = 0.8358, b = 0.0018, Cost = 0.0729\n",
      "Iteration 160: m = 0.8359, b = 0.0018, Cost = 0.0729\n",
      "Iteration 170: m = 0.8360, b = 0.0017, Cost = 0.0729\n",
      "Iteration 180: m = 0.8360, b = 0.0016, Cost = 0.0729\n",
      "Iteration 190: m = 0.8361, b = 0.0016, Cost = 0.0728\n",
      "Iteration 200: m = 0.8361, b = 0.0015, Cost = 0.0728\n",
      "\n",
      "Final Results:\n",
      "Optimal m: 0.8361\n",
      "Optimal b: 0.0015\n"
     ]
    }
   ],
   "source": [
    "import numpy as np\n",
    "\n",
    "# Step 1: Define the dataset\n",
    "X = np.array([10, 12, 14])  # Size of pizza (input feature)\n",
    "Y = np.array([8, 10, 12])   # Price of pizza (target variable)\n",
    "\n",
    "# Step 2: Initialize m and b\n",
    "m = 0.8  # Initial slope\n",
    "b = 0    # Initial intercept\n",
    "\n",
    "# Step 3: Define hyperparameters\n",
    "learning_rate = 0.0001  # Learning rate (alpha)\n",
    "num_iterations = 200  # Number of iterations\n",
    "\n",
    "# Step 4: Gradient Descent Algorithm\n",
    "for iteration in range(num_iterations):\n",
    "    # Calculate predictions (Y_hat)\n",
    "    Y_hat = m * X + b\n",
    "\n",
    "    # Calculate errors (Y_hat - Y)\n",
    "    errors = Y_hat - Y\n",
    "\n",
    "    # Calculate gradients\n",
    "    gradient_m = (2 / len(X)) * np.sum(errors * X)  # Derivative w.r.t. m\n",
    "    gradient_b = (2 / len(X)) * np.sum(errors)       # Derivative w.r.t. b\n",
    "\n",
    "    # Update m and b\n",
    "    m = m - learning_rate * gradient_m\n",
    "    b = b - learning_rate * gradient_b\n",
    "\n",
    "    # Print progress (optional)\n",
    "    if (iteration + 1) % 10 == 0:\n",
    "        cost = np.mean(errors ** 2)  # Mean Squared Error (MSE)\n",
    "        print(f\"Iteration {iteration + 1}: m = {m:.4f}, b = {b:.4f}, Cost = {cost:.4f}\")\n",
    "\n",
    "# Step 5: Final results\n",
    "print(\"\\nFinal Results:\")\n",
    "print(f\"Optimal m: {m:.4f}\")\n",
    "print(f\"Optimal b: {b:.4f}\")"
   ]
  },
  {
   "cell_type": "code",
   "execution_count": null,
   "id": "7e105908-c00a-4deb-9326-c66251c511a2",
   "metadata": {},
   "outputs": [],
   "source": []
  }
 ],
 "metadata": {
  "kernelspec": {
   "display_name": "Python 3 (ipykernel)",
   "language": "python",
   "name": "python3"
  },
  "language_info": {
   "codemirror_mode": {
    "name": "ipython",
    "version": 3
   },
   "file_extension": ".py",
   "mimetype": "text/x-python",
   "name": "python",
   "nbconvert_exporter": "python",
   "pygments_lexer": "ipython3",
   "version": "3.12.4"
  }
 },
 "nbformat": 4,
 "nbformat_minor": 5
}
